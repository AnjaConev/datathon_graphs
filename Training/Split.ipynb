{
 "cells": [
  {
   "cell_type": "code",
   "execution_count": 7,
   "metadata": {},
   "outputs": [],
   "source": [
    "import pandas as pd\n",
    "import json\n",
    "import numpy as np\n",
    "import matplotlib.pyplot as plt\n",
    "import networkx as nx\n",
    "from stellargraph import StellarGraph, datasets\n",
    "from stellargraph.data import EdgeSplitter"
   ]
  },
  {
   "cell_type": "code",
   "execution_count": 8,
   "metadata": {},
   "outputs": [],
   "source": [
    "G = nx.read_edgelist(\"training_graph.csv\", delimiter=',')"
   ]
  },
  {
   "cell_type": "code",
   "execution_count": 10,
   "metadata": {},
   "outputs": [],
   "source": [
    "Gs = StellarGraph.from_networkx(G)"
   ]
  },
  {
   "cell_type": "code",
   "execution_count": 47,
   "metadata": {},
   "outputs": [
    {
     "data": {
      "text/plain": [
       "26407.8"
      ]
     },
     "execution_count": 47,
     "metadata": {},
     "output_type": "execute_result"
    }
   ],
   "source": [
    "G.number_of_edges()/5"
   ]
  },
  {
   "cell_type": "code",
   "execution_count": 51,
   "metadata": {},
   "outputs": [
    {
     "name": "stdout",
     "output_type": "stream",
     "text": [
      "** Sampled 22006 positive and 22006 negative edges. **\n",
      "0\n",
      "0.16666666666666666\n",
      "** Sampled 22006 positive and 22006 negative edges. **\n",
      "1\n",
      "0.1999990911817364\n",
      "** Sampled 22006 positive and 22006 negative edges. **\n",
      "2\n",
      "0.2499971599622843\n",
      "** Sampled 22006 positive and 22006 negative edges. **\n",
      "3\n",
      "0.33332575998545916\n",
      "** Sampled 22006 positive and 22006 negative edges. **\n",
      "4\n",
      "0.4999772804725662\n",
      "** Sampled 22006 positive and 22006 negative edges. **\n",
      "5\n",
      "0.999886410104957\n"
     ]
    }
   ],
   "source": [
    "# Define an edge splitter on the original graph:\n",
    "#edge_splitter_test = EdgeSplitter(Gs)\n",
    "\n",
    "fold_N = 6\n",
    "\n",
    "splits = []\n",
    "G_tmp = G\n",
    "edges_per_split = G.number_of_edges()/fold_N\n",
    "for i in range(fold_N):\n",
    "    #extract edges for training and validation\n",
    "    edge_splitter_test = EdgeSplitter(G_tmp)\n",
    "    prob_i = edges_per_split/G_tmp.number_of_edges()\n",
    "    graph_test, examples_test, labels_test = edge_splitter_test.train_test_split(\n",
    "            p=prob_i, method=\"global\"\n",
    "        )\n",
    "    print(i)\n",
    "    print(prob_i)\n",
    "    #print(graph_test.info())\n",
    "    splits.append((graph_test, examples_test, labels_test))\n",
    "    G_tmp = graph_test\n",
    "    "
   ]
  },
  {
   "cell_type": "code",
   "execution_count": null,
   "metadata": {},
   "outputs": [],
   "source": []
  },
  {
   "cell_type": "code",
   "execution_count": 54,
   "metadata": {},
   "outputs": [],
   "source": [
    "\n",
    "data_for_df = {\"Node1\": [], \"Node2\":[], \"Label\":[], \"Fold\":[]}\n",
    "\n",
    "i=0\n",
    "for network, edges, labels in splits:\n",
    "    for j, lab in enumerate(labels):\n",
    "        data_for_df[\"Node1\"].append( edges[j][0])\n",
    "        data_for_df[\"Node2\"].append( edges[j][1])\n",
    "        data_for_df[\"Label\"].append( lab)\n",
    "        if i == fold_N-1:\n",
    "            data_for_df[\"Fold\"].append( \"Test\")\n",
    "        else:\n",
    "            data_for_df[\"Fold\"].append( i)\n",
    "    i+=1"
   ]
  },
  {
   "cell_type": "code",
   "execution_count": 57,
   "metadata": {},
   "outputs": [],
   "source": [
    "split_res_df =  pd.DataFrame(data_for_df)"
   ]
  },
  {
   "cell_type": "code",
   "execution_count": 64,
   "metadata": {},
   "outputs": [],
   "source": [
    "split_res_df.to_csv(\"data_split.csv\", index=False)"
   ]
  },
  {
   "cell_type": "code",
   "execution_count": null,
   "metadata": {},
   "outputs": [],
   "source": []
  }
 ],
 "metadata": {
  "kernelspec": {
   "display_name": "Python 3",
   "language": "python",
   "name": "python3"
  },
  "language_info": {
   "codemirror_mode": {
    "name": "ipython",
    "version": 3
   },
   "file_extension": ".py",
   "mimetype": "text/x-python",
   "name": "python",
   "nbconvert_exporter": "python",
   "pygments_lexer": "ipython3",
   "version": "3.8.5"
  }
 },
 "nbformat": 4,
 "nbformat_minor": 4
}
